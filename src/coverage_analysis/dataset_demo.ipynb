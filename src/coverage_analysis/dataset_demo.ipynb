{
 "cells": [
  {
   "cell_type": "markdown",
   "metadata": {},
   "source": [
    "# Dataset Demo\n",
    "\n",
    "The `mmwchanmod` packages has large datasets built from ray tracing data that can be used for experimentation in channel modeling. In this demo, you will learn how to:\n",
    "\n",
    "* Download a dataset\n",
    "* Print its configuration\n",
    "* Convert the dataset to `MPChan`objects for MIMO computations\n",
    "* Get basic statistics on the links in the dataset\n",
    "* Plot conditional histograms for data exploration.\n",
    "* Concatante datasets from multiple environments"
   ]
  },
  {
   "cell_type": "markdown",
   "metadata": {},
   "source": [
    "## Loading the Packages\n",
    "\n",
    "We first load some standard packages"
   ]
  },
  {
   "cell_type": "code",
   "execution_count": 1,
   "metadata": {},
   "outputs": [],
   "source": [
    "import numpy as np\n",
    "import matplotlib.pyplot as plt\n",
    "import os\n",
    "import sys"
   ]
  },
  {
   "cell_type": "markdown",
   "metadata": {},
   "source": [
    "To access the `mmwchanmod` package, you need to first add the package location to your path.  We add the path and then download the methods from the `mmwchanmod.datasets` sub-package."
   ]
  },
  {
   "cell_type": "code",
   "execution_count": 2,
   "metadata": {},
   "outputs": [],
   "source": [
    "path = os.path.abspath('..')\n",
    "if not path in sys.path:\n",
    "    sys.path.append(path)\n",
    "\n",
    "from mmwchanmod.datasets.download import get_dataset, list_datasets"
   ]
  },
  {
   "cell_type": "markdown",
   "metadata": {},
   "source": [
    "We can print the datasets available `list_datasets` command.  To print the datasets that can be downloaded from a remote server."
   ]
  },
  {
   "cell_type": "code",
   "execution_count": 3,
   "metadata": {},
   "outputs": [
    {
     "name": "stdout",
     "output_type": "stream",
     "text": [
      "Available datasets:\n",
      "   uav_boston\n",
      "   uav_london\n",
      "   uav_tokyo\n",
      "   uav_moscow\n",
      "   uav_beijing\n"
     ]
    }
   ],
   "source": [
    "_ = list_datasets(src='remote')  # or simply list_datasets()"
   ]
  },
  {
   "cell_type": "markdown",
   "metadata": {},
   "source": [
    "We will explore the Boston dataset as one example.  The first time the `get_dataset` command is run, it retrieves the dataset from the remote server and returns the data in the dataset.   We see there are three components in each dataset:  a configuration data structure, training data dictionary and test data dictionary."
   ]
  },
  {
   "cell_type": "code",
   "execution_count": 4,
   "metadata": {},
   "outputs": [],
   "source": [
    "ds = get_dataset('uav_boston')\n",
    "cfg = ds['cfg']\n",
    "train_data = ds['train_data']\n",
    "test_data = ds['test_data']"
   ]
  },
  {
   "cell_type": "markdown",
   "metadata": {},
   "source": [
    "We can print the configuration as follows to get detail on the dataset."
   ]
  },
  {
   "cell_type": "code",
   "execution_count": 5,
   "metadata": {},
   "outputs": [
    {
     "name": "stdout",
     "output_type": "stream",
     "text": [
      "Description:   Boston UAV data\r\n",
      "Date created:  30-10-2020\r\n",
      "fc:              2.8000e+10 Hz\r\n",
      "max path loss: 200.0\r\n",
      "max num paths: 20\r\n",
      "RX types:      ['Aerial', 'Terrestrial']\n"
     ]
    }
   ],
   "source": [
    "print(cfg)"
   ]
  },
  {
   "cell_type": "markdown",
   "metadata": {},
   "source": [
    "We can also list all the datasets that we have downloaded to the local machine.  The output of the command will depend on what you have downloaded prior to running this.  But, in this case, we see the `uav_boston` dataset."
   ]
  },
  {
   "cell_type": "code",
   "execution_count": 17,
   "metadata": {},
   "outputs": [
    {
     "name": "stdout",
     "output_type": "stream",
     "text": [
      "Available datasets:\n",
      "   uav_beijing\n",
      "   uav_boston\n",
      "   uav_london\n",
      "   uav_lon_tok\n",
      "   uav_moscow\n",
      "   uav_tokyo\n"
     ]
    }
   ],
   "source": [
    "_ = list_datasets(src='local')"
   ]
  },
  {
   "cell_type": "markdown",
   "metadata": {},
   "source": [
    "## Visualizing the Distance and Link State\n",
    "\n",
    "The `train_data` and `test_data` are dictionaries with various arrays with one row per link.  For example, we can get the TX-RX vector on all the links and plot the CDF of the total distances as follows."
   ]
  },
  {
   "cell_type": "code",
   "execution_count": 48,
   "metadata": {},
   "outputs": [
    {
     "name": "stdout",
     "output_type": "stream",
     "text": [
      "Number of links = 71622\n"
     ]
    },
    {
     "data": {
      "image/png": "[encoded data removed]",
      "text/plain": [
       "<Figure size 432x288 with 1 Axes>"
      ]
     },
     "metadata": {
      "needs_background": "light"
     },
     "output_type": "display_data"
    }
   ],
   "source": [
    "dvec = train_data['dvec']\n",
    "d3d = np.sqrt(np.sum(dvec**2,axis=1))\n",
    "nlink = len(d3d)\n",
    "\n",
    "plt.plot(np.sort(d3d), np.linspace(0,1,nlink))\n",
    "plt.grid()\n",
    "plt.xlabel('Distance (m)')\n",
    "plt.ylabel('CDF')\n",
    "\n",
    "print('Number of links = %d' % nlink)"
   ]
  },
  {
   "cell_type": "markdown",
   "metadata": {},
   "source": [
    "The dictionaries also include the link state indicating whether each link has:\n",
    "\n",
    "*  NoLink:  Link has no paths\n",
    "*  LOS:  Link has a LOS path, plus possibly NLOS paths\n",
    "*  NLOS:  Link has only NLOS paths\n",
    "\n",
    "We print the fraction of each link state type in the data set."
   ]
  },
  {
   "cell_type": "code",
   "execution_count": 49,
   "metadata": {},
   "outputs": [
    {
     "name": "stdout",
     "output_type": "stream",
     "text": [
      " NoLink :   0.337\n",
      "    LOS :   0.096\n",
      "   NLOS :   0.567\n"
     ]
    }
   ],
   "source": [
    "from mmwchanmod.common.constants import LinkState\n",
    "link_state = train_data['link_state']\n",
    "\n",
    "for i, ls in enumerate(LinkState.name):\n",
    "    p = np.mean(link_state == i)\n",
    "    print('%7s : %7.3f' % (ls,p))"
   ]
  },
  {
   "cell_type": "markdown",
   "metadata": {},
   "source": [
    "We can plot the LOS probability as a function of the distance.  The `hist_mean` method computes the conditional probability for this purpose."
   ]
  },
  {
   "cell_type": "code",
   "execution_count": 50,
   "metadata": {},
   "outputs": [
    {
     "data": {
      "image/png": "[encoded data removed]",
      "text/plain": [
       "<Figure size 432x288 with 1 Axes>"
      ]
     },
     "metadata": {
      "needs_background": "light"
     },
     "output_type": "display_data"
    }
   ],
   "source": [
    "from mmwchanmod.learn.datastats import hist_mean\n",
    "\n",
    "los = (link_state == LinkState.los_link)\n",
    "bin_edges, dcnt, plos = hist_mean(d3d, los, bins=20, range=[0,1000])\n",
    "bin_cen = (bin_edges[1:] + bin_edges[:-1])/2\n",
    "\n",
    "plt.plot(bin_cen, plos, 'o-')\n",
    "plt.grid()\n",
    "plt.xlabel('Distance')\n",
    "_ = plt.ylabel('LOS Probability')"
   ]
  },
  {
   "cell_type": "markdown",
   "metadata": {},
   "source": [
    "Since this is a UAV data where the TX was flying, it is useful to plot the LOS probability as a function of both the horizontal and vertical distance.  We can do this with `hist_mean2d` function."
   ]
  },
  {
   "cell_type": "code",
   "execution_count": 51,
   "metadata": {},
   "outputs": [
    {
     "data": {
      "text/plain": [
       "Text(0, 0.5, 'Vertical distance (m)')"
      ]
     },
     "execution_count": 51,
     "metadata": {},
     "output_type": "execute_result"
    },
    {
     "data": {
      "image/png": "[encoded data removed]",
      "text/plain": [
       "<Figure size 432x288 with 2 Axes>"
      ]
     },
     "metadata": {
      "needs_background": "light"
     },
     "output_type": "display_data"
    }
   ],
   "source": [
    "from mmwchanmod.learn.datastats import hist_mean2d\n",
    "\n",
    "# Get the horizontal and vertical distance\n",
    "dh = np.sqrt(dvec[:,0]**2 + dvec[:,1]**2)\n",
    "dz = dvec[:,2]\n",
    "\n",
    "# Get limits for the plot\n",
    "xlim = np.array([np.min(dh), np.max(dh)])\n",
    "zlim = np.array([np.min(dz), np.max(dz)])\n",
    "         \n",
    "# Compute the empirical probability\n",
    "xedges, zedges, cnt, los_prob =\\\n",
    "    hist_mean2d(dh,dz,los,bins=[40,5],range=[xlim,zlim])\n",
    "    \n",
    "# Plot the results    \n",
    "plt.imshow(np.flipud(los_prob.T),aspect='auto',\\\n",
    "               extent=[np.min(xedges),np.max(xedges),np.min(zedges),np.max(zedges)],\\\n",
    "               vmin=0, vmax=1)\n",
    "plt.colorbar()\n",
    "plt.xlabel('Horizontal distance (m)')\n",
    "plt.ylabel('Vertical distance (m)')"
   ]
  },
  {
   "cell_type": "markdown",
   "metadata": {},
   "source": [
    "## Separating Statistics by RX Type\n",
    "\n",
    "The package enables considering different types of receivers.  In the UAV dataset, there are two RX types: \n",
    "\n",
    "* aerial base stations mounted on rooftops directed for UAVs\n",
    "* terrestrial base stations on the ground designed for terrestrial links but could be used for UAVs\n",
    "\n",
    "We can plot the LOS probability separately for these two types as follows.  There are some gaps in the histogram since there were no TXs at certain altitudes in this data."
   ]
  },
  {
   "cell_type": "code",
   "execution_count": 52,
   "metadata": {},
   "outputs": [
    {
     "data": {
      "image/png": "[encoded data removed]",
      "text/plain": [
       "<Figure size 720x360 with 2 Axes>"
      ]
     },
     "metadata": {
      "needs_background": "light"
     },
     "output_type": "display_data"
    }
   ],
   "source": [
    "rx_type = train_data['rx_type']\n",
    "ntypes = len(cfg.rx_types)\n",
    "\n",
    "fig, ax = plt.subplots(1,ntypes, figsize=(10,5))\n",
    "\n",
    "for i in range(ntypes):\n",
    "    I0 = np.where(train_data['rx_type'] == i)[0]\n",
    "\n",
    "    xlim = np.array([np.min(dh[I0]), np.max(dh[I0])])\n",
    "    zlim = np.array([np.min(dz[I0]), np.max(dz[I0])])\n",
    "\n",
    "    # Compute the empirical probability\n",
    "    xedges, zedges, cnt, los_prob = hist_mean2d(dh[I0],dz[I0],los[I0],\\\n",
    "                                                  bins=[40,5],range=[xlim,zlim])\n",
    "\n",
    "    ax[i].imshow(np.flipud(los_prob.T),aspect='auto',\\\n",
    "                   extent=[np.min(xedges),np.max(xedges),np.min(zedges),np.max(zedges)],\\\n",
    "                   vmin=0, vmax=1)\n",
    "    \n",
    "    ax[i].set_xlabel('Horizontal distance (m)')\n",
    "    if (i == 0):\n",
    "        ax[i].set_ylabel('Vertical distance (m)')\n",
    "    ax[i].set_title(cfg.rx_types[i])"
   ]
  },
  {
   "cell_type": "markdown",
   "metadata": {},
   "source": [
    "## Plotting the Omni-Directional Path Loss and Delay\n",
    "\n",
    "For several other statistics,  we first convert the data arrays to a list of multipath channel objects, `MPChan`."
   ]
  },
  {
   "cell_type": "code",
   "execution_count": 53,
   "metadata": {},
   "outputs": [],
   "source": [
    "from mmwchanmod.learn.datastats import data_to_mpchan\n",
    "chan_list, link_state = data_to_mpchan(train_data, cfg)"
   ]
  },
  {
   "cell_type": "markdown",
   "metadata": {},
   "source": [
    "Once it is an lis of `MPChan` objects, we can compute various statistics such as the RMS delay spread."
   ]
  },
  {
   "cell_type": "code",
   "execution_count": 54,
   "metadata": {},
   "outputs": [],
   "source": [
    "nlink = len(chan_list)\n",
    "pl_omni = np.zeros(nlink)\n",
    "rms_dly = np.zeros(nlink)\n",
    "for i in range(nlink):\n",
    "    pl_omni[i] = chan_list[i].comp_omni_path_loss()\n",
    "    rms_dly[i] = chan_list[i].rms_dly()"
   ]
  },
  {
   "cell_type": "markdown",
   "metadata": {},
   "source": [
    "We now plot the delay spread as a function of the distance."
   ]
  },
  {
   "cell_type": "code",
   "execution_count": 55,
   "metadata": {},
   "outputs": [
    {
     "data": {
      "text/plain": [
       "Text(0, 0.5, 'RMS delay spread (ns)')"
      ]
     },
     "execution_count": 55,
     "metadata": {},
     "output_type": "execute_result"
    },
    {
     "data": {
      "image/png": "[encoded data removed]",
      "text/plain": [
       "<Figure size 432x288 with 1 Axes>"
      ]
     },
     "metadata": {
      "needs_background": "light"
     },
     "output_type": "display_data"
    }
   ],
   "source": [
    "# Find links on which there is at least one path\n",
    "I = np.where(link_state != LinkState.no_link)[0]\n",
    "\n",
    "\n",
    "bin_edges, dcnt, rms_dly_mean = hist_mean(d3d[I], rms_dly[I], bins=20, range=[0,1000])\n",
    "bin_cen = (bin_edges[1:] + bin_edges[:-1])/2\n",
    "\n",
    "# Convert to ns\n",
    "rms_dly_mean = rms_dly_mean*1e9\n",
    "plt.plot(bin_cen, rms_dly_mean, 'o-')\n",
    "plt.grid()\n",
    "plt.xlabel('Distance (m)')\n",
    "plt.ylabel('RMS delay spread (ns)')\n"
   ]
  },
  {
   "cell_type": "markdown",
   "metadata": {},
   "source": [
    "We plot the omni-directional path loss separately for LOS and NLOS links."
   ]
  },
  {
   "cell_type": "code",
   "execution_count": 56,
   "metadata": {},
   "outputs": [
    {
     "data": {
      "image/png": "[encoded data removed]",
      "text/plain": [
       "<Figure size 432x288 with 1 Axes>"
      ]
     },
     "metadata": {
      "needs_background": "light"
     },
     "output_type": "display_data"
    }
   ],
   "source": [
    "ls_plot = [LinkState.los_link, LinkState.nlos_link]\n",
    "\n",
    "for i, ls in enumerate(ls_plot):\n",
    "    I = np.where(link_state == ls)[0]\n",
    "    bin_edges, dcnt, pl_mean = hist_mean(d3d[I], pl_omni[I], bins=20, range=[0,1000])\n",
    "    bin_cen = (bin_edges[1:] + bin_edges[:-1])/2\n",
    "\n",
    "    plt.plot(bin_cen, pl_mean, 'o-')\n",
    "\n",
    "plt.grid()\n",
    "plt.legend(['LOS', 'NLOS'])\n",
    "plt.xlabel('Distance (m)')\n",
    "_  = plt.ylabel('Omni path loss (dB)')"
   ]
  },
  {
   "cell_type": "markdown",
   "metadata": {},
   "source": [
    "There is plenty of other stats that you can play around with including the angles of the paths."
   ]
  },
  {
   "cell_type": "markdown",
   "metadata": {},
   "source": [
    "## Concatenating Datasets\n",
    "\n",
    "Sometimes it is useful to concatante datasets to train on the union of environments.  The following code will create a dataset combining the London and Tokyo cities."
   ]
  },
  {
   "cell_type": "code",
   "execution_count": 14,
   "metadata": {},
   "outputs": [
    {
     "name": "stdout",
     "output_type": "stream",
     "text": [
      "Data file C:\\Users\\sdran\\Google Drive (sr663@nyu.edu)\\RanganGroup\\Simulations\\mmwchanmod-nyu\\mmwchanmod\\datasets\\..\\..\\data\\uav_london.p already available\n",
      "Data file C:\\Users\\sdran\\Google Drive (sr663@nyu.edu)\\RanganGroup\\Simulations\\mmwchanmod-nyu\\mmwchanmod\\datasets\\..\\..\\data\\uav_tokyo.p already available\n",
      "uav_london: train:  74659 links, test: 24886 links\n",
      "uav_tokyo : train:  176400 links, test: 58800 links\n",
      "Total     : train:  251059 links, test: 83686 links\n",
      "Concatanated uav_lon_tok.p\n"
     ]
    }
   ],
   "source": [
    "from mmwchanmod.datasets.download import concat_datasets\n",
    "ds_names = ['uav_london', 'uav_tokyo']\n",
    "\n",
    "# Load the datasets to the local machine\n",
    "# The return_data option indicates to just download the data and not output the contents\n",
    "for ds_name in ds_names:\n",
    "    get_dataset(ds_name, return_data=False)\n",
    "    \n",
    "# Concantante datasets    \n",
    "_ = concat_datasets(ds_names, out_name='uav_lon_tok')\n"
   ]
  },
  {
   "cell_type": "markdown",
   "metadata": {},
   "source": [
    "We can now verify that the concatanted dataset is in the local data folder."
   ]
  },
  {
   "cell_type": "code",
   "execution_count": 16,
   "metadata": {},
   "outputs": [
    {
     "name": "stdout",
     "output_type": "stream",
     "text": [
      "Available datasets:\n",
      "   uav_beijing\n",
      "   uav_boston\n",
      "   uav_london\n",
      "   uav_lon_tok\n",
      "   uav_moscow\n",
      "   uav_tokyo\n"
     ]
    }
   ],
   "source": [
    "_ = list_datasets(src='local')"
   ]
  },
  {
   "cell_type": "code",
   "execution_count": null,
   "metadata": {},
   "outputs": [],
   "source": []
  }
 ],
 "metadata": {
  "kernelspec": {
   "display_name": "Python 3",
   "language": "python",
   "name": "python3"
  },
  "language_info": {
   "codemirror_mode": {
    "name": "ipython",
    "version": 3
   },
   "file_extension": ".py",
   "mimetype": "text/x-python",
   "name": "python",
   "nbconvert_exporter": "python",
   "pygments_lexer": "ipython3",
   "version": "3.8.3"
  }
 },
 "nbformat": 4,
 "nbformat_minor": 4
}
